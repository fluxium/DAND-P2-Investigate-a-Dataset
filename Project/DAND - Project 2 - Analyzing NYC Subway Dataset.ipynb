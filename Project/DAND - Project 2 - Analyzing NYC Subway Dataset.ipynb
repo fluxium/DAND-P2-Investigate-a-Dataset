{
 "cells": [
  {
   "cell_type": "markdown",
   "metadata": {},
   "source": [
    "# DAND\n",
    "## Project 1\n",
    "## Analyzing NYC Subway Dataset\n",
    "#### Mahlon Barrault\n",
    "#### June 22, 2015"
   ]
  },
  {
   "cell_type": "markdown",
   "metadata": {},
   "source": [
    "### Contents\n",
    "\n",
    "[0. References](#Section-0.-References)\n",
    "\n",
    "[1. Statistical Test](#Section-1.-Statistical-Test)\n",
    "\n",
    "[2. Linear Regression](#Section-2.-Linear-Regression)\n",
    "\n",
    "[3. Visualization](#Section-3.-Visualization)\n",
    "\n",
    "[4. Conclusion](#Section-4.-Conclusion)\n",
    "\n",
    "[5. Reflection](#Section-5.-Reflection)"
   ]
  },
  {
   "cell_type": "markdown",
   "metadata": {},
   "source": [
    "### Section 0. References\n",
    "https://github.com/nborwankar/LearnDataScience/tree/master/ - Used iPython notebooks as a style reference for this one\n",
    "\n",
    "https://help.github.com/articles/markdown-basics/ - Provided valuable tips on styling\n",
    "\n",
    "https://discussions.udacity.com/t/one-tail-vs-two-tail-in-mann-whitney-u-test/21401/5\n",
    "\n",
    "https://discussions.udacity.com/t/lesson-3-problem-set-mann-whitney-u-test-one-tail-or-two-tail/23872/2\n",
    "\n",
    "http://www.ats.ucla.edu/stat/mult_pkg/faq/general/tail_tests.htm\n",
    "\n",
    "https://discussions.udacity.com/t/project-1-what-is-dummy-and-non-dummy-variables/23302\n",
    "\n",
    "https://github.com/scipy/scipy/issues/4386\n",
    "\n",
    "https://discussions.udacity.com/t/sometimes-statsmodels-api-ols-values-features-fit-forgets-1-parameters/23209/2\n",
    "\n",
    "http://blog.yhathq.com/posts/aggregating-and-plotting-time-series-in-python.html\n",
    "\n",
    "http://www.clockbackward.com/2009/06/18/ordinary-least-squares-linear-regression-flaws-problems-and-pitfalls/\n",
    "\n",
    "http://www.ma.utexas.edu/users/mks/statmistakes/modelcheckingplots.html\n",
    "\n",
    "http://en.wikipedia.org/wiki/Q%E2%80%93Q_plot\n",
    "\n",
    "http://docs.scipy.org/doc/scipy/reference/generated/scipy.stats.probplot.html\n",
    "\n",
    "http://support.sas.com/documentation/cdl/en/procstat/63104/HTML/default/viewer.htm#procstat_univariate_sect040.htm"
   ]
  },
  {
   "cell_type": "markdown",
   "metadata": {},
   "source": [
    "### Section 1. Statistical Test"
   ]
  },
  {
   "cell_type": "markdown",
   "metadata": {},
   "source": [
    "**1.1 Which statistical test did you use to analyze the NYC subway data? Did you use a one-tail or a two-tail P value? What is the null hypothesis? What is your p-critical value?**"
   ]
  },
  {
   "cell_type": "markdown",
   "metadata": {},
   "source": [
    "A Mann-Whitney U-Test was conducted between the sample where the data indicated it was raining and the sample where the data indicated it was not raining. The null hypothesis was that the two samples were from the same distribution or, more specifically, that rain does not produce statistically significant effects on subway ridership. The null hypothesis can be stated:\n",
    "\n",
    "$$\\overline{ENTRIESn\\_hourly_{rain}} = \\overline{ENTRIESn\\_hourly_{no rain}}$$\n",
    "\n",
    "A two-tail P value was used in this test. A two-tail test is suitable to our null hypothesis because we are making no claims as to the direction of the potential difference in means between our two samples. A two-tail test allows us to detect statistical relevance for all scenarios where the means of the samples are not equal regardless of the direction of the difference.\n",
    "\n",
    "The P_critical value was 0.05 or 5%.\n",
    "$$P_{critical} = 0.05$$"
   ]
  },
  {
   "cell_type": "markdown",
   "metadata": {},
   "source": [
    "**1.2 Why is this statistical test applicable to the dataset? In particular, consider the assumptions that the test is making about the distribution of ridership in the two samples.**"
   ]
  },
  {
   "cell_type": "markdown",
   "metadata": {},
   "source": [
    "In the Exploratory phase the two samples were graphed and the samples appeared to not be normally distributed. This ruled out using a Welch's t-Test since it assumes a normal distribution. A Mann-Whitney U Test was chosen instead. A Mann-Whitney U Test makes no assumptions about the distribution of the data, so it is an applicable test for this dataset."
   ]
  },
  {
   "cell_type": "markdown",
   "metadata": {},
   "source": [
    "**1.3 What results did you get from this statistical test? These should include the following numerical values: p-values, as well as the means for each of the two samples under test.**"
   ]
  },
  {
   "cell_type": "markdown",
   "metadata": {},
   "source": [
    "The mean of ENTRIESn_hourly from the rain sample was 1105.4463767458733.\n",
    "\n",
    "$$\\overline{ENTRIESn\\_hourly_{rain}} = 1105.4463767458733$$\n",
    "\n",
    "The mean of ENTRIESn_hourly from the no rain sample was 1090.278780151855.\n",
    "\n",
    "$$\\overline{ENTRIESn\\_hourly_{no rain}} = 1090.278780151855$$\n",
    "\n",
    "The Mann-Whitney U Test on these two samples produced a p value of 0.0499998255869794*.\n",
    "\n",
    "$$P = 0.0499998255869794*$$\n",
    "\n",
    "\\* see https://github.com/scipy/scipy/issues/4386 for possible explaination of different p-values if this notebook is executed on windows."
   ]
  },
  {
   "cell_type": "markdown",
   "metadata": {},
   "source": [
    "**1.4 What is the significance and interpretation of these results?**"
   ]
  },
  {
   "cell_type": "markdown",
   "metadata": {},
   "source": [
    "Observing the difference of means between the two samples we may conclude that they are \"close enough\" to accept the null hypothesis. However, the results from the Mann-Whitney U Test give us a P that is less than our P_critical. This indicates that the difference in the means of the two samples is statistically relevant allowing us to reject the null hypothesis. We observe a higher mean in the 'rain' group. This lends evidence that subway ridership may be positively affected by rain."
   ]
  },
  {
   "cell_type": "code",
   "execution_count": 1,
   "metadata": {
    "collapsed": false
   },
   "outputs": [
    {
     "data": {
      "text/plain": [
       "<module 'matplotlib.pyplot' from 'C:\\\\Anaconda3\\\\lib\\\\site-packages\\\\matplotlib\\\\pyplot.py'>"
      ]
     },
     "execution_count": 1,
     "metadata": {},
     "output_type": "execute_result"
    },
    {
     "data": {
      "image/png": "[encoded data removed]",
      "text/plain": [
       "<matplotlib.figure.Figure at 0x51deb70>"
      ]
     },
     "metadata": {},
     "output_type": "display_data"
    }
   ],
   "source": [
    "%matplotlib inline\n",
    "\n",
    "import numpy as np\n",
    "import pandas as pd\n",
    "import matplotlib.pyplot as plt\n",
    "\n",
    "turnstileData = pd.read_csv('../datasets/turnstile_data_master_with_weather.csv')\n",
    "\n",
    "def entries_histogram(turnstile_weather):\n",
    "    '''\n",
    "    Some Original comments removed to save space\n",
    "    Code taken from Problem Set 3 > 1 - Exploratory Data Analysis\n",
    "    '''\n",
    "    plt.figure()\n",
    "    # your code here to plot a historgram for hourly entries when it is raining\n",
    "    turnstile_weather['ENTRIESn_hourly'][turnstile_weather['rain'] == 0].hist(range = (0,6000), label = 'No Rain', bins = 24)\n",
    "    # your code here to plot a historgram for hourly entries when it is not raining\n",
    "    turnstile_weather['ENTRIESn_hourly'][turnstile_weather['rain'] == 1].hist(range = (0,6000), label = 'Rain', bins = 24) \n",
    "    plt.suptitle('Histogram of ENTRIESn_hourly', fontsize=16)\n",
    "    plt.legend()\n",
    "    plt.xlabel('ENTRIESn_hourly')\n",
    "    plt.ylabel('Frequency')\n",
    "    return plt\n",
    "\n",
    "#following lines added to run assignment code outside of Udacity classroom for Introduction to Data Science\n",
    "entries_histogram(turnstileData)"
   ]
  },
  {
   "cell_type": "code",
   "execution_count": 37,
   "metadata": {
    "collapsed": false
   },
   "outputs": [
    {
     "name": "stdout",
     "output_type": "stream",
     "text": [
      "Rain Group Mean:  1105.44637675\n",
      "No Rain Group Mean:  1090.27878015\n",
      "U Statistic:  1924409167.0\n",
      "P Value:  0.0386192688276\n",
      "P Value may not match results as explained above if this notebook is executed on Windows\n"
     ]
    }
   ],
   "source": [
    "import scipy as sp\n",
    "import scipy.stats as sps\n",
    "\n",
    "def mann_whitney_plus_means(turnstile_weather):\n",
    "    '''\n",
    "    Some Original comments removed to save space\n",
    "    Code taken from Problem Set 3 > 3 - Mann-Whitney U-Test\n",
    "    '''\n",
    "    w_Rain = turnstile_weather[turnstile_weather['rain'] == 1]\n",
    "    wo_Rain = turnstile_weather[turnstile_weather['rain'] == 0]\n",
    "    \n",
    "    with_rain_mean = np.mean(w_Rain['ENTRIESn_hourly'])\n",
    "    without_rain_mean = np.mean(wo_Rain['ENTRIESn_hourly'])\n",
    "    \n",
    "    U, p = scipy.stats.mannwhitneyu(wo_Rain['ENTRIESn_hourly'], w_Rain['ENTRIESn_hourly'])\n",
    "    \n",
    "    #multipling p by 2 to get two-tail p value\n",
    "    return with_rain_mean, without_rain_mean, U, p*2 # leave this line for the grader\n",
    "\n",
    "rainMean, noRainMean, U, p = mann_whitney_plus_means(turnstileData)\n",
    "print(\"Rain Group Mean: \", rainMean)\n",
    "print(\"No Rain Group Mean: \", noRainMean)\n",
    "print(\"U Statistic: \", U)\n",
    "print(\"P Value: \", p)\n",
    "print(\"P Value may not match results as explained above if this notebook is executed on Windows\")"
   ]
  },
  {
   "cell_type": "markdown",
   "metadata": {},
   "source": [
    "### Section 2. Linear Regression"
   ]
  },
  {
   "cell_type": "markdown",
   "metadata": {},
   "source": [
    "**2.1 What approach did you use to compute the coefficients theta and produce prediction for ENTRIESn_hourly in your regression model:**\n",
    "1. OLS using Statsmodels or Scikit Learn\n",
    "2. Gradient descent using Scikit Learn\n",
    "3. Or something different?"
   ]
  },
  {
   "cell_type": "markdown",
   "metadata": {},
   "source": [
    "OLS using Statsmodels was used in this analysis as the linear regression method. Gradient descent using Scikit Learn was tried as well but OLS R^2 values were more promising."
   ]
  },
  {
   "cell_type": "markdown",
   "metadata": {},
   "source": [
    "**2.2 What features (input variables) did you use in your model? Did you use any dummy variables as part of your features?**"
   ]
  },
  {
   "cell_type": "markdown",
   "metadata": {},
   "source": [
    "Several combinations of features were experimented with. After several iterations the rain and Hour columns were chosen as features. UNIT (Station Name) was used as a dummy variable as provided in the instructor's code. A column called DOW (Day of Week) was derived from the DATEn column and joined as a dummy variable."
   ]
  },
  {
   "cell_type": "markdown",
   "metadata": {},
   "source": [
    "** 2.3 Why did you select these features in your model? We are looking for specific reasons that lead you to believe that\n",
    "the selected features will contribute to the predictive power of your model.\n",
    "Your reasons might be based on intuition. For example, response for fog might be: \"I decided to use fog because I thought that when it is very foggy outside people might decide to use the subway more often.\"\n",
    "Your reasons might also be based on data exploration and experimentation, for example: \"I used feature X because as soon as I included it in my model, it drastically improved my R2 value.\" **"
   ]
  },
  {
   "cell_type": "markdown",
   "metadata": {},
   "source": [
    "Initially, intuition was the guide for selecting features for this model; using the hypothesis that if rain seemed to drive ridership then perhaps using some of the other meteorological data in the dataset would bolster the predictive accuracy of the model. meantempi, mintempi, maxtempi and fog were added to the features, but they seemed to contribute little to the R^2 value. meanwindsdi was added to the model to test if higher wind speeds influenced ridership, but, it too, contributed little to the predictive power. At this point a decision was made to take a more systematic approach. All features in the dataset were added then one by one removed. R^2 values were observed and noted after each iteration of removing a feature and running the model. The most dominant non-dummy features were determined to be rain, and Hour. The most dominant dummy features were determined to be a derived feature called DOW that represented the day of the week, and UNIT."
   ]
  },
  {
   "cell_type": "markdown",
   "metadata": {},
   "source": [
    "**2.4 What are the parameters (also known as \"coefficients\" or \"weights\") of the non-dummy features in your linear regression model?**"
   ]
  },
  {
   "cell_type": "markdown",
   "metadata": {},
   "source": [
    "$$\\beta_{rain} = -34.9587179$$\n",
    "$$\\beta_{Hour} = 67.3566178$$"
   ]
  },
  {
   "cell_type": "markdown",
   "metadata": {},
   "source": [
    "**2.5 What is your model’s R2 (coefficients of determination) value?**"
   ]
  },
  {
   "cell_type": "markdown",
   "metadata": {},
   "source": [
    "$$R^2 = 0.46988063449$$"
   ]
  },
  {
   "cell_type": "markdown",
   "metadata": {},
   "source": [
    "**2.6 What does this R2 value mean for the goodness of fit for your regression model? Do you think this linear model to predict ridership is appropriate for this dataset, given this R2 value?**"
   ]
  },
  {
   "cell_type": "markdown",
   "metadata": {},
   "source": [
    "This R^2 value indicates that the model was able to fit ~47.0% of the data. By examining the plot of Residuals together with the R^2 value we might conclude that the model is an adequate fit. Since this model is an estimate of human behavior, and not a more predictable process, this R^2 value could be appropriate for the dataset. However, after examining the plots 'Probability Plot of Residuals' and 'All Residuals', produced upon recommendation by a reviewer, the breakdown of the linear model begins to show. The probability plot shows that the errors in the predictions are not normally distributed indicating a poorly fit model. The 'All Residuals' plot exposes the cyclical structure to the errors indicating a linear model is not appropriate to this dataset."
   ]
  },
  {
   "cell_type": "code",
   "execution_count": 3,
   "metadata": {
    "collapsed": false
   },
   "outputs": [],
   "source": [
    "def compute_r_squared(data, predictions):\n",
    "    '''\n",
    "    Some Original comments removed to save space\n",
    "    Code taken from Problem Set 3 > 7 - Compute R^2\n",
    "    '''\n",
    "    numerator = np.sum((data - predictions)**2)\n",
    "    denom = np.sum((data - np.mean(data))**2)\n",
    "    r_squared = 1 - (numerator / denom)\n",
    "    \n",
    "    return r_squared"
   ]
  },
  {
   "cell_type": "code",
   "execution_count": 54,
   "metadata": {
    "collapsed": true
   },
   "outputs": [],
   "source": [
    "def plot_qq(turnstile_weather, predictions):\n",
    "    \"\"\"Produces a scipy.stats.probplot to\n",
    "    assist in analyzing the distribution of\n",
    "    residuals\n",
    "    \"\"\"\n",
    "    plt.figure()\n",
    "    \n",
    "    sps.probplot(x=turnstile_weather['ENTRIESn_hourly'] - predictions, plot=plt)\n",
    "    plt.title('Probability Plot of Residuals', fontsize=16)\n",
    "    return plt"
   ]
  },
  {
   "cell_type": "code",
   "execution_count": 62,
   "metadata": {
    "collapsed": true
   },
   "outputs": [],
   "source": [
    "def plot_obs_vs_predict(turnstile_weather, predictions):\n",
    "    \"\"\"Produces a scipy.stats.probplot to\n",
    "    assist in analyzing the distribution of\n",
    "    residuals\n",
    "    \"\"\"\n",
    "    plt.figure()\n",
    "    \n",
    "    plt.plot(turnstile_weather['ENTRIESn_hourly'] - predictions)\n",
    "    plt.title('All Residuals', fontsize=16)\n",
    "    plt.ylabel('Residual')\n",
    "    plt.xlabel('Record Index')\n",
    "    return plt"
   ]
  },
  {
   "cell_type": "code",
   "execution_count": 45,
   "metadata": {
    "collapsed": true
   },
   "outputs": [],
   "source": [
    "def plot_residuals(turnstile_weather, predictions):\n",
    "    '''\n",
    "    Some Original comments removed to save space\n",
    "    Code taken from Problem Set 3 > 6 - Plotting Residuals\n",
    "    '''\n",
    "    plt.figure()\n",
    "    \n",
    "    (turnstile_weather['ENTRIESn_hourly'] - predictions).hist(label = 'Residual', bins = 50)\n",
    "    plt.title('Residual of ENTRIESn_hourly and Predictions', fontsize=16)\n",
    "    plt.legend()\n",
    "    plt.xlabel('Residual')\n",
    "    plt.ylabel('Frequency')\n",
    "    return plt"
   ]
  },
  {
   "cell_type": "code",
   "execution_count": 64,
   "metadata": {
    "collapsed": false
   },
   "outputs": [
    {
     "name": "stdout",
     "output_type": "stream",
     "text": [
      "R^2 Value:  0.469891535766\n"
     ]
    }
   ],
   "source": [
    "import statsmodels.api as sm\n",
    "'''\n",
    "Some Original comments removed to save space\n",
    "Code taken from Problem Set 3 > 5 - Linear Regression\n",
    "'''\n",
    "\n",
    "def linear_regression(features, values):\n",
    "    \"\"\"\n",
    "    Some Original comments removed to save space\n",
    "    \"\"\"\n",
    "    #constant added to produce intercept, only adds a constant is one does not already exitst in the data\n",
    "    fitFeatures = sm.add_constant(features)\n",
    "    #print(features.shape)\n",
    "    #print(fitFeatures.shape)\n",
    "    model = sm.OLS(values, fitFeatures)\n",
    "    results = model.fit()\n",
    "    params = results.params[1:]\n",
    "    intercept = results.params[0]\n",
    "\n",
    "    return intercept, params\n",
    "\n",
    "def predictions(dataframe):\n",
    "    '''\n",
    "    Some Original comments removed to save space\n",
    "    Code taken from Problem Set 3 > 5 - Linear Regression\n",
    "    Provided by instructor\n",
    "    '''\n",
    "    # Select Features (try different features!)\n",
    "    #thunder is a constant of 0. If used, sm.add_constant(features) will not add a constant\n",
    "    \n",
    "    #features = dataframe[['rain', 'precipi', 'Hour', 'meantempi']] #0.45804446474\n",
    "    \n",
    "    #along with rain, perhaps temperature and wind influence ridership\n",
    "    #features = dataframe[['rain', 'precipi', 'Hour', 'maxtempi', 'fog', 'mintempi', 'meanwindspdi']] #0.459203243098\n",
    "    \n",
    "    #previous but without 'fog'\n",
    "    #features = dataframe[['rain', 'precipi', 'Hour', 'maxtempi', 'mintempi', 'meanwindspdi']] #does not converge\n",
    "    \n",
    "    #all features except some of the problematic ones like thunder\n",
    "    #features = dataframe[['Hour', 'maxpressurei', 'maxdewpti', 'mindewpti', 'minpressurei', 'meandewpti',\n",
    "    #                    'meanpressurei', 'fog', 'rain', 'meanwindspdi', 'mintempi', 'meantempi', 'maxtempi',\n",
    "    #                    'precipi']] #0.46138754392\n",
    "    \n",
    "    #removed 'maxdewpti'\n",
    "    #features = dataframe[['Hour', 'maxpressurei', 'mindewpti', 'minpressurei', 'meandewpti',\n",
    "    #                    'meanpressurei', 'fog', 'rain', 'meanwindspdi', 'mintempi', 'meantempi', 'maxtempi',\n",
    "    #                    'precipi']] #0.461284253482\n",
    "    \n",
    "    #removed 'minpressurei'\n",
    "    #features = dataframe[['Hour', 'maxpressurei', 'meandewpti',\n",
    "    #                    'meanpressurei', 'fog', 'rain', 'meanwindspdi', 'mintempi', 'meantempi', 'maxtempi',\n",
    "    #                    'precipi']] #0.461154867037 \n",
    "    \n",
    "    #removed 'maxpressurei'\n",
    "    #features = dataframe[['Hour',  'meandewpti',\n",
    "    #                    'meanpressurei', 'fog', 'rain', 'meanwindspdi', 'mintempi', 'meantempi', 'maxtempi',\n",
    "    #                    'precipi']] #0.459937880287\n",
    "    \n",
    "    #removed 'mintempi'\n",
    "    #features = dataframe[['Hour',  'meandewpti',\n",
    "    #                    'meanpressurei', 'fog', 'rain', 'meanwindspdi', 'meantempi', 'maxtempi',\n",
    "    #                    'precipi']] #0.459910264248\n",
    "    \n",
    "    #removed 'maxtempi'\n",
    "    #features = dataframe[['Hour',  'meandewpti',\n",
    "    #                    'meanpressurei', 'fog', 'rain', 'meanwindspdi', 'meantempi', 'precipi']] #0.458760123728 \n",
    "    \n",
    "    #removed 'fog'\n",
    "    #features = dataframe[['Hour',  'meandewpti',\n",
    "    #                    'meanpressurei',  'rain', 'meanwindspdi', 'meantempi', 'precipi']] #0.458586887501\n",
    "    \n",
    "    #removed 'meandewpti'\n",
    "    #features = dataframe[['Hour', 'meanpressurei',  'rain', 'meanwindspdi', 'meantempi', 'precipi']] #0.458574730675\n",
    "    \n",
    "    #removed 'precipi'\n",
    "    #features = dataframe[['Hour', 'meanpressurei',  'rain', 'meanwindspdi', 'meantempi']] #0.458567612582\n",
    "   \n",
    "    #removed 'Hour'\n",
    "    #features = dataframe[['meanpressurei',  'rain', 'meanwindspdi', 'meantempi']] #0.419352827628\n",
    "    \n",
    "    #removed 'meanpressurei'\n",
    "    #features = dataframe[['rain', 'meanwindspdi', 'meantempi']] #0.419151648005\n",
    "    \n",
    "    #removed  'meanwindspdi'\n",
    "    #features = dataframe[['rain', 'meantempi']] #0.418795853695\n",
    "    \n",
    "    #removed 'meantempi'\n",
    "    #features = dataframe[['rain']] #0.418343611355\n",
    "    \n",
    "    #added 'Hour' back\n",
    "    features = dataframe[['rain', 'Hour']] #0.457561363847\n",
    "    \n",
    "    #prepare Day of Week feature\n",
    "    dataframe['DATEn'] = pd.to_datetime(dataframe['DATEn'])\n",
    "    dataframeTemp = dataframe.set_index(dataframe['DATEn'])\n",
    "    dataframe['DOW'] = dataframeTemp.index.weekday\n",
    "    \n",
    "    #added 'DOW'\n",
    "    #features = dataframe[['rain', 'Hour', 'DOW']] #0.462709376092\n",
    "    \n",
    "    # Add UNIT to features using dummy variables\n",
    "    dummy_units = pd.get_dummies(dataframe['UNIT'], prefix='unit')\n",
    "    features = features.join(dummy_units)\n",
    "    \n",
    "    # Add DOW to features using dummy variables\n",
    "    dummy_dow = pd.get_dummies(dataframe['DOW'], prefix='dow')\n",
    "    features = features.join(dummy_dow)\n",
    "    #0.46988063449\n",
    "\n",
    "    # Values\n",
    "    values = dataframe['ENTRIESn_hourly']\n",
    "    \n",
    "    # Get the numpy arrays\n",
    "    features_array = features.values\n",
    "    values_array = values.values\n",
    "\n",
    "    # Perform linear regression\n",
    "    intercept, params = linear_regression(features_array, values_array)\n",
    "    \n",
    "    #print(params)\n",
    "    \n",
    "    predictions = intercept + np.dot(features_array, params)\n",
    "    \n",
    "    return predictions\n",
    "\n",
    "predict = predictions(turnstileData)\n",
    "\n",
    "r2 = compute_r_squared(turnstileData['ENTRIESn_hourly'], predict)\n",
    "\n",
    "print(\"R^2 Value: \", r2)"
   ]
  },
  {
   "cell_type": "code",
   "execution_count": 65,
   "metadata": {
    "collapsed": false
   },
   "outputs": [
    {
     "data": {
      "text/plain": [
       "<module 'matplotlib.pyplot' from 'C:\\\\Anaconda3\\\\lib\\\\site-packages\\\\matplotlib\\\\pyplot.py'>"
      ]
     },
     "execution_count": 65,
     "metadata": {},
     "output_type": "execute_result"
    },
    {
     "data": {
      "image/png": "[encoded data removed]",
      "text/plain": [
       "<matplotlib.figure.Figure at 0xa3f0b00>"
      ]
     },
     "metadata": {},
     "output_type": "display_data"
    },
    {
     "data": {
      "image/png": "[encoded data removed]",
      "text/plain": [
       "<matplotlib.figure.Figure at 0xa3f0be0>"
      ]
     },
     "metadata": {},
     "output_type": "display_data"
    },
    {
     "data": {
      "image/png": "[encoded data removed]",
      "text/plain": [
       "<matplotlib.figure.Figure at 0x1c39d6a0>"
      ]
     },
     "metadata": {},
     "output_type": "display_data"
    }
   ],
   "source": [
    "plot_residuals(turnstileData, predict)\n",
    "\n",
    "plot_qq(turnstileData, predict)\n",
    "\n",
    "plot_obs_vs_predict(turnstileData, predict)"
   ]
  },
  {
   "cell_type": "code",
   "execution_count": 6,
   "metadata": {
    "collapsed": false
   },
   "outputs": [
    {
     "name": "stdout",
     "output_type": "stream",
     "text": [
      "R^2 Value:  0.433462939995\n"
     ]
    }
   ],
   "source": [
    "from sklearn.linear_model import SGDRegressor\n",
    "\n",
    "'''\n",
    "Some Original comments removed to save space\n",
    "Code taken from Problem Set 3 > 8 - Gradient Descent (optional)\n",
    "'''\n",
    "\n",
    "def normalize_features(features):\n",
    "    ''' \n",
    "    Returns the means and standard deviations of the given features, along with a normalized feature\n",
    "    matrix. \n",
    "    Provided by instructor\n",
    "    ''' \n",
    "    means = np.mean(features, axis=0)\n",
    "    std_devs = np.std(features, axis=0)\n",
    "    normalized_features = (features - means) / std_devs\n",
    "    return means, std_devs, normalized_features\n",
    "\n",
    "def recover_params(means, std_devs, norm_intercept, norm_params):\n",
    "    '''\n",
    "    Some Original comments removed to save space\n",
    "    Code taken from Problem Set 3 > 8 - Gradient Descent (optional)\n",
    "    Provided by instructor\n",
    "    '''\n",
    "    intercept = norm_intercept - np.sum(means * norm_params / std_devs)\n",
    "    params = norm_params / std_devs\n",
    "    return intercept, params\n",
    "\n",
    "def linear_regressionSGD(features, values):\n",
    "    \"\"\"\n",
    "    Perform linear regression given a data set with an arbitrary number of features.\n",
    "    \"\"\"\n",
    "    model = SGDRegressor(n_iter = 50)\n",
    "    results = model.fit(features, values)\n",
    "    params = results.coef_\n",
    "    intercept = results.intercept_\n",
    "    \n",
    "    return intercept, params\n",
    "\n",
    "def predictionsSGD(dataframe):\n",
    "    '''\n",
    "    Some Original comments removed to save space\n",
    "    Code taken from Problem Set 3 > 8 - Gradient Descent (optional)\n",
    "    Provided by instructor\n",
    "    '''\n",
    "    # Select Features (try different features!)\n",
    "    #thunder is a constant of 0. If used, sm.add_constant(features) will not add a constant\n",
    "    \n",
    "    #features = dataframe[['rain', 'precipi', 'Hour', 'meantempi']] #0.42345695122\n",
    "    \n",
    "    #along with rain, perhaps temperature and wind influence ridership\n",
    "    #features = dataframe[['rain', 'precipi', 'Hour', 'maxtempi', 'fog', 'mintempi', 'meanwindspdi']] #0.425960018979\n",
    "    \n",
    "    #previous but without 'fog'\n",
    "    #features = dataframe[['rain', 'precipi', 'Hour', 'maxtempi', 'mintempi', 'meanwindspdi']] #0.424481979739\n",
    "    \n",
    "    #all features except some of the problematic ones like thunder\n",
    "    features = dataframe[['Hour', 'maxpressurei', 'maxdewpti', 'mindewpti', 'minpressurei', 'meandewpti',\n",
    "                        'meanpressurei', 'fog', 'rain', 'meanwindspdi', 'mintempi', 'meantempi', 'maxtempi',\n",
    "                        'precipi']] #0.432235284381 \n",
    "    \n",
    "    # Add UNIT to features using dummy variables\n",
    "    dummy_units = pd.get_dummies(dataframe['UNIT'], prefix='unit')\n",
    "    features = features.join(dummy_units)\n",
    "    \n",
    "    # Values\n",
    "    values = dataframe['ENTRIESn_hourly']\n",
    "    \n",
    "    # Get the numpy arrays\n",
    "    features_array = features.values\n",
    "    values_array = values.values\n",
    "    \n",
    "    means, std_devs, normalized_features_array = normalize_features(features_array)\n",
    "\n",
    "    # Perform gradient descent\n",
    "    norm_intercept, norm_params = linear_regressionSGD(normalized_features_array, values_array)\n",
    "    \n",
    "    intercept, params = recover_params(means, std_devs, norm_intercept, norm_params)\n",
    "    \n",
    "    predictions = intercept + np.dot(features_array, params)\n",
    "    # The following line would be equivalent:\n",
    "    # predictions = norm_intercept + np.dot(normalized_features_array, norm_params)\n",
    "    \n",
    "    return predictions\n",
    "\n",
    "r2 = compute_r_squared(turnstileData['ENTRIESn_hourly'], predictionsSGD(turnstileData))\n",
    "\n",
    "print(\"R^2 Value: \", r2)"
   ]
  },
  {
   "cell_type": "markdown",
   "metadata": {},
   "source": [
    "### Section 3. Visualization"
   ]
  },
  {
   "cell_type": "markdown",
   "metadata": {},
   "source": [
    "Please include two visualizations that show the relationships between two or more variables in the NYC subway data.\n",
    "Remember to add appropriate titles and axes labels to your plots. Also, please add a short description below each figure commenting on the key insights depicted in the figure."
   ]
  },
  {
   "cell_type": "markdown",
   "metadata": {},
   "source": [
    "**3.1 One visualization should contain two histograms: one of  ENTRIESn_hourly for rainy days and one of ENTRIESn_hourly for non-rainy days.**\n",
    "* You can combine the two histograms in a single plot or you can use two separate plots.\n",
    "* If you decide to use to two separate plots for the two histograms, please ensure that the x-axis limits for both of the plots are identical. It is much easier to compare the two in that case.\n",
    "* For the histograms, you should have intervals representing the volume of ridership (value of ENTRIESn_hourly) on the x-axis and the frequency of occurrence on the y-axis. For example, each interval (along the x-axis), the height of the bar for this interval will represent the number of records (rows in our data) that have ENTRIESn_hourly that falls in this interval.\n",
    "*Remember to increase the number of bins in the histogram (by having larger number of bars). The default bin width is not sufficient to capture the variability in the two samples."
   ]
  },
  {
   "cell_type": "code",
   "execution_count": 7,
   "metadata": {
    "collapsed": false
   },
   "outputs": [
    {
     "data": {
      "text/plain": [
       "<module 'matplotlib.pyplot' from 'C:\\\\Anaconda3\\\\lib\\\\site-packages\\\\matplotlib\\\\pyplot.py'>"
      ]
     },
     "execution_count": 7,
     "metadata": {},
     "output_type": "execute_result"
    },
    {
     "data": {
      "image/png": "[encoded data removed]",
      "text/plain": [
       "<matplotlib.figure.Figure at 0x9c01c50>"
      ]
     },
     "metadata": {},
     "output_type": "display_data"
    }
   ],
   "source": [
    "entries_histogram(turnstileData) # the definition of this function occurs earlier in this notebook (Section 1)"
   ]
  },
  {
   "cell_type": "markdown",
   "metadata": {},
   "source": [
    "The above plot has been limited to 6000 on the ENTRIESn_hourly axis cutting off some outliers to highlight the distribution of these data. The plot indicates that the sample sizes of No Rain and Rain are different, Rain occurring notably less. It is clear that the distribution is non-normal and that informs the choices of statistical methods to be employed to analyze these data."
   ]
  },
  {
   "cell_type": "markdown",
   "metadata": {},
   "source": [
    "**3.2 One visualization can be more freeform. You should feel free to implement something that we discussed in class (e.g., scatter plots, line plots) or attempt to implement something more advanced if you'd like. Some suggestions are:**\n",
    "* Ridership by time-of-day\n",
    "* Ridership by day-of-week"
   ]
  },
  {
   "cell_type": "code",
   "execution_count": 34,
   "metadata": {
    "collapsed": false
   },
   "outputs": [
    {
     "data": {
      "image/png": "[encoded data removed]",
      "text/plain": [
       "<matplotlib.figure.Figure at 0x1c3ca320>"
      ]
     },
     "metadata": {},
     "output_type": "display_data"
    },
    {
     "data": {
      "text/plain": [
       "<ggplot: (26530631)>"
      ]
     },
     "execution_count": 34,
     "metadata": {},
     "output_type": "execute_result"
    }
   ],
   "source": [
    "from ggplot import *\n",
    "\n",
    "def plot_weather_data(turnstile_weather):\n",
    "    ''' \n",
    "    Some Original comments removed to save space\n",
    "    Code taken from Problem Set 4 > Exercise - Visualization 1\n",
    "    Provided by instructor\n",
    "    '''\n",
    "\n",
    "    turnstile_weather.is_copy = False\n",
    "\n",
    "    # prepare DOW column\n",
    "    turnstile_weather['DATEn'] = pd.to_datetime(turnstile_weather['DATEn'])\n",
    "    turnstile_weather = turnstile_weather.set_index(turnstile_weather['DATEn'])\n",
    "    turnstile_weather['DOW'] = turnstile_weather.index.weekday\n",
    "    \n",
    "    # prepare groups on DOW using mean\n",
    "    dowGroups = turnstile_weather.groupby(['DOW']).mean()\n",
    "    dowGroups.index.name = 'DOW'\n",
    "    dowGroups = dowGroups.reset_index()\n",
    "    \n",
    "    days_of_week = pd.Series([\"Monday\", \"Tuesday\", \"Wednesday\", \"Thrusday\", \"Friday\", \"Saturday\", \"Sunday\"])\n",
    "    \n",
    "    dowGroups['day_of_week'] = dowGroups['DOW'].map(days_of_week)\n",
    "    \n",
    "    # plot mean of ENTRIESn_hourly by DOW group\n",
    "    plot = ggplot(dowGroups, aes(x='DOW', y='ENTRIESn_hourly')) + geom_line()\n",
    "    plot += geom_point()\n",
    "    plot += ylab('Mean ENTRIESn_hourly')\n",
    "    plot += xlab('Day of the Week')\n",
    "    plot += ggtitle('Mean Hourly Entries by Day of the Week')\n",
    "    plot += scale_x_discrete(breaks=dowGroups['day_of_week'].index.values.tolist(), labels=dowGroups['day_of_week'])\n",
    "    return plot\n",
    "\n",
    "plot_weather_data(turnstileData)"
   ]
  },
  {
   "cell_type": "markdown",
   "metadata": {},
   "source": [
    "An attempt to create this plot using a more fitting bar graph was made. Due to some incompatibilities between pandas 0.16 and ggplot 0.6.5 this was not possible. Points and Lines were used instead. A notable feature is the counterintuitive low mean on Monday. One would expect the start of the workweek to yield higher mean entries. Means of the rest of the days of the week are as expected."
   ]
  },
  {
   "cell_type": "markdown",
   "metadata": {},
   "source": [
    "### Section 4. Conclusion"
   ]
  },
  {
   "cell_type": "markdown",
   "metadata": {},
   "source": [
    "*Please address the following questions in detail. Your answers should be 1-2 paragraphs long.*"
   ]
  },
  {
   "cell_type": "markdown",
   "metadata": {},
   "source": [
    "**4.1 From your analysis and interpretation of the data, do more people ride the NYC subway when it is raining or when it is not raining?**"
   ]
  },
  {
   "cell_type": "markdown",
   "metadata": {},
   "source": [
    "The preceding analysis has briefly overviewed some of the key features of the NYC Subway Dataset. The goal of this analysis was to determine if rainy days affect the ridership of the NYC Subway system. It is not sufficient or useful to only show that rain can affect ridership; the direction of the affect is most actionable. This analysis has discovered that rain has a positive effect on NYC Subway ridership."
   ]
  },
  {
   "cell_type": "markdown",
   "metadata": {},
   "source": [
    "**4.2 What analyses lead you to this conclusion? You should use results from both your statistical tests and your linear regression to support your analysis.**"
   ]
  },
  {
   "cell_type": "markdown",
   "metadata": {},
   "source": [
    "Firstly, a visualization of the two primary samples in question was produced. This was crucial in deciding between a Welch's t-Test and a Mann-Whitney U-Test. The data were found to not conform to a normal distribution, so a Mann-Whitney U-Test was chosen. Conducting a Mann-Whitney U-Test against the two samples (Raining and Not Raining) produced results allowing the rejection of the null hypothesis. In other words, with the results of the Mann-Whitney U-Test being less than the critical P value of 0.05 and the means of the two samples differing made it evident that there were significant statistical differences between the samples. It can be concluded that rain has a positive effect on subway ridership because:\n",
    "\n",
    "\n",
    "$$\\overline{ENTRIESn\\_hourly_{rain}} >\\overline{ENTRIESn\\_hourly_{no rain}}$$\n",
    "\n",
    "Linear regression was performed using Statsmodels implementation of OLS (Ordinary Least Squares). By systematically experimenting with various features from the dataset the rain and Hour features were found to produce a possible adequately fit model. Plotting the residuals of this model seemed to show a normal distribution. However, the plot illustrated that there were residuals of very high magnitude as shown by the extremely long tails of the distribution. A reviewer recommended producing a probability plot to assist in analyzing the residuals since a visual analysis of a residual histogram can be difficult and inaccurate because of various factors like bin size. As can be seen in the plot 'Probability Plot of Residuals', the output is dramatically non-linear. This is an indication that the model has some glaring issues."
   ]
  },
  {
   "cell_type": "markdown",
   "metadata": {},
   "source": [
    "### Section 5. Reflection"
   ]
  },
  {
   "cell_type": "markdown",
   "metadata": {},
   "source": [
    "*Please address the following questions in detail. Your answers should be 1-2 paragraphs long.*"
   ]
  },
  {
   "cell_type": "markdown",
   "metadata": {},
   "source": [
    "**5.1 Please discuss potential shortcomings of the methods of your analysis, including:**\n",
    "1. Dataset,\n",
    "2. Analysis, such as the linear regression model or statistical test."
   ]
  },
  {
   "cell_type": "markdown",
   "metadata": {},
   "source": [
    "As with all experiments, it is important to acknowledge the limitations of the analysis. These data were collected on an hourly interval. If the resolution of these data were higher, perhaps by the minute, this may improve the accuracy of hourly predictions. These data were collected several years ago, so actions taken based on the predictions from the linear regression model produced by this analysis may not be valid. The main hypothesis of this analysis was if rain has an effect on ridership. The dataset only represents a single month of the year, so any models produced from these data would not be representative enough for accurate predictions year-round\n",
    "\n",
    "The linear regression technique used (Ordinary Least Squares) has major limitations. OLS is particularly sensitive to outliers and the dataset has several. The R^2 measure of goodness of fit with a OLS model can give a false impression of a well fit model. As the number of features increases so does the R^2 value of the model. The dummy variable on UNIT adds more than 400 features, so the R^2 of the model is likely giving an overestimated goodness of fit. On the recommendation of a reviewer a probability plot was produced. This plot showed that when the residuals of the model are compared to a normal distribution there are significant deviations indicating that the model is performing poorly for some data. The 'All Residuals' plot revealed that there was a clear non-linearity in the dataset that could only be accurately predicted by using another, non-linear, regression technique."
   ]
  },
  {
   "cell_type": "code",
   "execution_count": 66,
   "metadata": {
    "collapsed": false
   },
   "outputs": [
    {
     "name": "stdout",
     "output_type": "stream",
     "text": [
      "2011-05-01 00:00:00\n",
      "2011-05-30 00:00:00\n"
     ]
    }
   ],
   "source": [
    "print(turnstileData['DATEn'].min())\n",
    "print(turnstileData['DATEn'].max())"
   ]
  },
  {
   "cell_type": "markdown",
   "metadata": {},
   "source": [
    "**5.2 (Optional) Do you have any other insight about the dataset that you would like to share with us?**"
   ]
  },
  {
   "cell_type": "markdown",
   "metadata": {},
   "source": [
    "In Section 3 of this analysis a plot of Mean Entries by Day of the Week was generated. It was interesting to note that mean entries on Mondays seemed to be lower than the other days of the typical workweek. There were 5 Mondays in May 2011 so this seems even more unusual. This might be explained by a long weekend or other significant events in NYC during May 2011."
   ]
  }
 ],
 "metadata": {
  "kernelspec": {
   "display_name": "Python 2",
   "language": "python",
   "name": "python2"
  },
  "language_info": {
   "codemirror_mode": {
    "name": "ipython",
    "version": 2
   },
   "file_extension": ".py",
   "mimetype": "text/x-python",
   "name": "python",
   "nbconvert_exporter": "python",
   "pygments_lexer": "ipython2",
   "version": "2.7.10"
  }
 },
 "nbformat": 4,
 "nbformat_minor": 0
}
